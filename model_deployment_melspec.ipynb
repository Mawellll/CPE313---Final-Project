{
  "nbformat": 4,
  "nbformat_minor": 0,
  "metadata": {
    "colab": {
      "provenance": []
    },
    "kernelspec": {
      "name": "python3",
      "display_name": "Python 3"
    },
    "language_info": {
      "name": "python"
    }
  },
  "cells": [
    {
      "cell_type": "code",
      "execution_count": 1,
      "metadata": {
        "colab": {
          "base_uri": "https://localhost:8080/"
        },
        "id": "aBhSI0_XrYD8",
        "outputId": "68e58dde-c74b-4e2d-f77b-b5bddd8ac47f"
      },
      "outputs": [
        {
          "output_type": "stream",
          "name": "stdout",
          "text": [
            "\u001b[2K     \u001b[90m━━━━━━━━━━━━━━━━━━━━━━━━━━━━━━━━━━━━━━━━\u001b[0m \u001b[32m8.5/8.5 MB\u001b[0m \u001b[31m44.4 MB/s\u001b[0m eta \u001b[36m0:00:00\u001b[0m\n",
            "\u001b[2K     \u001b[90m━━━━━━━━━━━━━━━━━━━━━━━━━━━━━━━━━━━━━━━━\u001b[0m \u001b[32m207.3/207.3 kB\u001b[0m \u001b[31m24.3 MB/s\u001b[0m eta \u001b[36m0:00:00\u001b[0m\n",
            "\u001b[2K     \u001b[90m━━━━━━━━━━━━━━━━━━━━━━━━━━━━━━━━━━━━━━━━\u001b[0m \u001b[32m6.9/6.9 MB\u001b[0m \u001b[31m82.6 MB/s\u001b[0m eta \u001b[36m0:00:00\u001b[0m\n",
            "\u001b[2K     \u001b[90m━━━━━━━━━━━━━━━━━━━━━━━━━━━━━━━━━━━━━━━━\u001b[0m \u001b[32m83.0/83.0 kB\u001b[0m \u001b[31m10.5 MB/s\u001b[0m eta \u001b[36m0:00:00\u001b[0m\n",
            "\u001b[2K     \u001b[90m━━━━━━━━━━━━━━━━━━━━━━━━━━━━━━━━━━━━━━━━\u001b[0m \u001b[32m62.7/62.7 kB\u001b[0m \u001b[31m7.6 MB/s\u001b[0m eta \u001b[36m0:00:00\u001b[0m\n",
            "\u001b[?25h"
          ]
        }
      ],
      "source": [
        "!pip install -q streamlit"
      ]
    },
    {
      "cell_type": "code",
      "source": [
        "!pip install keras"
      ],
      "metadata": {
        "colab": {
          "base_uri": "https://localhost:8080/"
        },
        "id": "B-wvDhmdrajD",
        "outputId": "4660a598-6f98-4f6b-ad0d-d2e9c5d73642"
      },
      "execution_count": 2,
      "outputs": [
        {
          "output_type": "stream",
          "name": "stdout",
          "text": [
            "Requirement already satisfied: keras in /usr/local/lib/python3.10/dist-packages (2.15.0)\n"
          ]
        }
      ]
    },
    {
      "cell_type": "code",
      "source": [
        "from google.colab import drive\n",
        "drive.mount('/content/drive')"
      ],
      "metadata": {
        "colab": {
          "base_uri": "https://localhost:8080/"
        },
        "id": "I2VYdkzUl2tp",
        "outputId": "83c362ce-364a-4552-873e-3afc1820315c"
      },
      "execution_count": 6,
      "outputs": [
        {
          "output_type": "stream",
          "name": "stdout",
          "text": [
            "Mounted at /content/drive\n"
          ]
        }
      ]
    },
    {
      "cell_type": "code",
      "source": [
        "%%writefile app.py\n",
        "\n",
        "import streamlit as st\n",
        "import numpy as np\n",
        "import librosa\n",
        "import librosa.display\n",
        "import matplotlib.pyplot as plt\n",
        "from keras.models import load_model\n",
        "import io\n",
        "from PIL import Image\n",
        "import tempfile\n",
        "import os\n",
        "\n",
        "# Function to create and save Mel Spectrogram as an image\n",
        "def create_mel_spectrogram(file_path, save_path, n_mels=128, hop_length=512):\n",
        "    try:\n",
        "        # Load the audio file\n",
        "        y, sr = librosa.load(file_path, sr=None)\n",
        "\n",
        "        # Create the Mel Spectrogram\n",
        "        S = librosa.feature.melspectrogram(y=y, sr=sr, n_mels=n_mels, hop_length=hop_length)\n",
        "        S_DB = librosa.power_to_db(S, ref=np.max)\n",
        "\n",
        "        # Plot and save the Mel Spectrogram\n",
        "        plt.figure(figsize=(10, 4))\n",
        "        librosa.display.specshow(S_DB, sr=sr, hop_length=hop_length, x_axis='time', y_axis='mel')\n",
        "        plt.colorbar(format='%+2.0f dB')\n",
        "        plt.title('Mel Spectrogram')\n",
        "        plt.tight_layout()\n",
        "        plt.savefig(save_path)\n",
        "        plt.close()\n",
        "    except Exception as e:\n",
        "        st.error(f\"Error creating mel spectrogram: {e}\")\n",
        "\n",
        "# Load the pre-trained model\n",
        "model = load_model('/content/drive/MyDrive/Final Project DS3/vgg16_model_final1.h5')\n",
        "\n",
        "# Function to make predictions\n",
        "def make_prediction(image_path):\n",
        "    try:\n",
        "        # Load and preprocess the Mel Spectrogram image\n",
        "        image = Image.open(image_path).convert('L')\n",
        "        image = image.resize((224, 224))  # Resize to 224x224\n",
        "        image = np.array(image)\n",
        "        image = np.stack((image,) * 3, axis=-1)  # Convert to 3 channels\n",
        "        image = image / 255.0  # Normalize pixel values\n",
        "        image = image.reshape(1, 224, 224, 3)  # Reshape to match model input\n",
        "\n",
        "        # Make predictions\n",
        "        y_pred = model.predict(image)\n",
        "        # For binary classification, you can use a threshold of 0.5\n",
        "        y_pred_classes = (y_pred > 0.5).astype(int)\n",
        "        return y_pred_classes\n",
        "    except Exception as e:\n",
        "        st.error(f\"Error making prediction: {e}\")\n",
        "        return None\n",
        "\n",
        "# Streamlit app\n",
        "def main():\n",
        "    st.title(\"Audio Classification\")\n",
        "\n",
        "    # File uploader widget\n",
        "    uploaded_file = st.file_uploader(\"Upload Audio\", type=[\"wav\", \"mp3\", \"flac\"])\n",
        "\n",
        "    if uploaded_file:\n",
        "        # Save the uploaded file temporarily\n",
        "        try:\n",
        "            with tempfile.NamedTemporaryFile(delete=False, suffix=\".wav\") as tmp_file:\n",
        "                audio_file_path = tmp_file.name\n",
        "                tmp_file.write(uploaded_file.getbuffer())\n",
        "\n",
        "            # Create and save Mel Spectrogram image\n",
        "            mel_spectrogram_path = \"mel_spectrogram.png\"\n",
        "            create_mel_spectrogram(audio_file_path, mel_spectrogram_path)\n",
        "\n",
        "            # Perform prediction\n",
        "            prediction = make_prediction(mel_spectrogram_path)\n",
        "            if prediction is not None:\n",
        "                # Display prediction\n",
        "                st.write(f\"Predicted class: {'Real' if prediction[0] == 1 else 'Fake'}\")\n",
        "\n",
        "                # Display the Mel Spectrogram\n",
        "                image = Image.open(mel_spectrogram_path)\n",
        "                st.image(image, caption='Mel Spectrogram', use_column_width=True)\n",
        "        except Exception as e:\n",
        "            st.error(f\"Error processing uploaded file: {e}\")\n",
        "        finally:\n",
        "            if os.path.exists(audio_file_path):\n",
        "                os.remove(audio_file_path)\n",
        "\n",
        "if __name__ == \"__main__\":\n",
        "    main()\n"
      ],
      "metadata": {
        "colab": {
          "base_uri": "https://localhost:8080/"
        },
        "id": "M7ICKDcC0TVJ",
        "outputId": "c4217911-e7a1-4ea6-da92-227304e4e145"
      },
      "execution_count": 1,
      "outputs": [
        {
          "output_type": "stream",
          "name": "stdout",
          "text": [
            "Overwriting app.py\n"
          ]
        }
      ]
    },
    {
      "cell_type": "code",
      "source": [
        "!npm install localtunnel"
      ],
      "metadata": {
        "colab": {
          "base_uri": "https://localhost:8080/"
        },
        "id": "tTjF_VZJr7CX",
        "outputId": "24640e2d-c7a1-46ef-b559-6baa1c3d4b44"
      },
      "execution_count": 2,
      "outputs": [
        {
          "output_type": "stream",
          "name": "stdout",
          "text": [
            "\u001b[K\u001b[?25h\u001b[37;40mnpm\u001b[0m \u001b[0m\u001b[30;43mWARN\u001b[0m \u001b[0m\u001b[35msaveError\u001b[0m ENOENT: no such file or directory, open '/content/package.json'\n",
            "\u001b[0m\u001b[37;40mnpm\u001b[0m \u001b[0m\u001b[30;43mWARN\u001b[0m \u001b[0m\u001b[35menoent\u001b[0m ENOENT: no such file or directory, open '/content/package.json'\n",
            "\u001b[0m\u001b[37;40mnpm\u001b[0m \u001b[0m\u001b[30;43mWARN\u001b[0m\u001b[35m\u001b[0m content No description\n",
            "\u001b[0m\u001b[37;40mnpm\u001b[0m \u001b[0m\u001b[30;43mWARN\u001b[0m\u001b[35m\u001b[0m content No repository field.\n",
            "\u001b[0m\u001b[37;40mnpm\u001b[0m \u001b[0m\u001b[30;43mWARN\u001b[0m\u001b[35m\u001b[0m content No README data\n",
            "\u001b[0m\u001b[37;40mnpm\u001b[0m \u001b[0m\u001b[30;43mWARN\u001b[0m\u001b[35m\u001b[0m content No license field.\n",
            "\u001b[0m\n",
            "+ localtunnel@2.0.2\n",
            "updated 1 package and audited 36 packages in 2.844s\n",
            "\n",
            "3 packages are looking for funding\n",
            "  run `npm fund` for details\n",
            "\n",
            "found 2 \u001b[93mmoderate\u001b[0m severity vulnerabilities\n",
            "  run `npm audit fix` to fix them, or `npm audit` for details\n",
            "\u001b[K\u001b[?25h"
          ]
        }
      ]
    },
    {
      "cell_type": "code",
      "source": [
        "import urllib\n",
        "print(\"Password/Enpoint IP for localtunnel is:\",urllib.request.urlopen('https://ipv4.icanhazip.com').read().decode('utf8').strip(\"\\n\"))"
      ],
      "metadata": {
        "colab": {
          "base_uri": "https://localhost:8080/"
        },
        "id": "DrlICCkasCaL",
        "outputId": "28f14493-259f-497f-b219-87daa876c4c4"
      },
      "execution_count": 3,
      "outputs": [
        {
          "output_type": "stream",
          "name": "stdout",
          "text": [
            "Password/Enpoint IP for localtunnel is: 34.106.119.117\n"
          ]
        }
      ]
    },
    {
      "cell_type": "code",
      "source": [
        "!streamlit run app.py &>/content/logs.txt &"
      ],
      "metadata": {
        "id": "9LmaXbd0sGoo"
      },
      "execution_count": 4,
      "outputs": []
    },
    {
      "cell_type": "code",
      "source": [
        "!npx localtunnel --port 8501"
      ],
      "metadata": {
        "colab": {
          "base_uri": "https://localhost:8080/"
        },
        "id": "SDQ7nrWFsHuu",
        "outputId": "f67bd796-94ce-49d0-fe27-6b68422fe1d0"
      },
      "execution_count": 5,
      "outputs": [
        {
          "output_type": "stream",
          "name": "stdout",
          "text": [
            "\u001b[K\u001b[?25hnpx: installed 22 in 6.676s\n",
            "your url is: https://wicked-keys-fix.loca.lt\n",
            "^C\n"
          ]
        }
      ]
    },
    {
      "cell_type": "code",
      "source": [],
      "metadata": {
        "id": "tckrzdfksItF"
      },
      "execution_count": 5,
      "outputs": []
    }
  ]
}