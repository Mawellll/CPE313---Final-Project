{
 "cells": [
  {
   "cell_type": "code",
   "execution_count": 2,
   "metadata": {},
   "outputs": [
    {
     "name": "stdout",
     "output_type": "stream",
     "text": [
      "Balanced dataset saved to c:\\Users\\MAWEL\\Desktop\\Final Project\\Dataset\\balanced_audio_features.csv\n"
     ]
    }
   ],
   "source": [
    "import pandas as pd\n",
    "\n",
    "def balance_dataset(input_csv, output_csv):\n",
    "    # Load the dataset\n",
    "    df = pd.read_csv(input_csv)\n",
    "\n",
    "    # Separate the classes\n",
    "    df_real = df[df['label'] == 'REAL']\n",
    "    df_fake = df[df['label'] == 'FAKE']\n",
    "\n",
    "    # Determine the class sizes\n",
    "    size_real = len(df_real)\n",
    "    size_fake = len(df_fake)\n",
    "\n",
    "    # Determine the size of the minority class\n",
    "    min_size = min(size_real, size_fake)\n",
    "\n",
    "    # Resample the majority class\n",
    "    df_real_balanced = df_real.sample(n=min_size, random_state=42)\n",
    "    df_fake_balanced = df_fake.sample(n=min_size, random_state=42)\n",
    "\n",
    "    # Combine the resampled data\n",
    "    df_balanced = pd.concat([df_real_balanced, df_fake_balanced])\n",
    "\n",
    "    # Shuffle the combined dataset\n",
    "    df_balanced = df_balanced.sample(frac=1, random_state=42).reset_index(drop=True)\n",
    "\n",
    "    # Save the balanced dataset to a new CSV file\n",
    "    df_balanced.to_csv(output_csv, index=False)\n",
    "    print(f'Balanced dataset saved to {output_csv}')\n",
    "\n",
    "\n",
    "input_csv = 'c:\\\\Users\\\\MAWEL\\\\Desktop\\\\Final Project\\\\Dataset\\\\audio_features.csv'\n",
    "output_csv = 'c:\\\\Users\\\\MAWEL\\\\Desktop\\\\Final Project\\\\Dataset\\\\balanced_audio_features.csv'\n",
    "\n",
    "balance_dataset(input_csv, output_csv)\n"
   ]
  },
  {
   "cell_type": "code",
   "execution_count": null,
   "metadata": {},
   "outputs": [],
   "source": []
  }
 ],
 "metadata": {
  "kernelspec": {
   "display_name": "CPE313",
   "language": "python",
   "name": "python3"
  },
  "language_info": {
   "codemirror_mode": {
    "name": "ipython",
    "version": 3
   },
   "file_extension": ".py",
   "mimetype": "text/x-python",
   "name": "python",
   "nbconvert_exporter": "python",
   "pygments_lexer": "ipython3",
   "version": "3.11.8"
  }
 },
 "nbformat": 4,
 "nbformat_minor": 2
}
