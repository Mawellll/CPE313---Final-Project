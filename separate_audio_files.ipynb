{
 "cells": [
  {
   "cell_type": "code",
   "execution_count": 15,
   "metadata": {},
   "outputs": [],
   "source": [
    "import os\n",
    "import pandas as pd\n",
    "import shutil\n",
    "\n",
    "def separate_audio_files(base_dir, protocol_file, output_dir):\n",
    "    # Read the protocol file\n",
    "    df = pd.read_csv(protocol_file, sep=' ', header=None, names=['SPEAKER_ID', 'AUDIO-FILE_NAME', 'SYSTEM_ID', 'KEY'])\n",
    "    \n",
    "    # Create directories for AI-generated and human-generated audio\n",
    "    ai_generated_dir = os.path.join(output_dir, 'ai_generated_2')\n",
    "    human_generated_dir = os.path.join(output_dir, 'human_generated_2')\n",
    "    os.makedirs(ai_generated_dir, exist_ok=True)\n",
    "    os.makedirs(human_generated_dir, exist_ok=True)\n",
    "    \n",
    "    # Iterate through the protocol file and copy files to the appropriate directory\n",
    "    for index, row in df.iterrows():\n",
    "        file_path = os.path.join(base_dir, row['SPEAKER_ID'] + '.flac')\n",
    "        if row['KEY'] == 'spoof':\n",
    "            shutil.copy(file_path, os.path.join(ai_generated_dir, row['SPEAKER_ID'] + '.flac'))\n",
    "        else:\n",
    "            shutil.copy(file_path, os.path.join(human_generated_dir, row['SPEAKER_ID'] + '.flac'))\n",
    "\n",
    "\n",
    "train_base_dir = r'c:\\Users\\MAWEL\\Desktop\\Final Project\\LA\\ASVspoof2019_LA_eval\\flac'\n",
    "train_protocol_file = r'c:\\Users\\MAWEL\\Desktop\\Final Project\\LA\\ASVspoof2019_LA_cm_protocols\\ASVspoof2019.LA.cm.eval.trl.txt'\n",
    "train_output_dir = r'c:\\Users\\MAWEL\\Desktop\\Final Project\\Dataset'\n",
    "\n",
    "separate_audio_files(train_base_dir, train_protocol_file, train_output_dir)\n",
    " \n",
    "\n"
   ]
  },
  {
   "cell_type": "code",
   "execution_count": null,
   "metadata": {},
   "outputs": [],
   "source": []
  }
 ],
 "metadata": {
  "kernelspec": {
   "display_name": "CPE313",
   "language": "python",
   "name": "python3"
  },
  "language_info": {
   "codemirror_mode": {
    "name": "ipython",
    "version": 3
   },
   "file_extension": ".py",
   "mimetype": "text/x-python",
   "name": "python",
   "nbconvert_exporter": "python",
   "pygments_lexer": "ipython3",
   "version": "3.11.8"
  }
 },
 "nbformat": 4,
 "nbformat_minor": 2
}
