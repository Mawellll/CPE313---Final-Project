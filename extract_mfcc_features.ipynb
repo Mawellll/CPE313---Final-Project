{
 "cells": [
  {
   "cell_type": "code",
   "execution_count": 1,
   "metadata": {},
   "outputs": [
    {
     "name": "stdout",
     "output_type": "stream",
     "text": [
      "Requirement already satisfied: librosa in c:\\users\\mawel\\anaconda3\\envs\\cpe313\\lib\\site-packages (0.10.2.post1)\n",
      "Requirement already satisfied: pandas in c:\\users\\mawel\\anaconda3\\envs\\cpe313\\lib\\site-packages (2.2.1)\n",
      "Requirement already satisfied: audioread>=2.1.9 in c:\\users\\mawel\\anaconda3\\envs\\cpe313\\lib\\site-packages (from librosa) (3.0.1)\n",
      "Requirement already satisfied: numpy!=1.22.0,!=1.22.1,!=1.22.2,>=1.20.3 in c:\\users\\mawel\\anaconda3\\envs\\cpe313\\lib\\site-packages (from librosa) (1.26.4)\n",
      "Requirement already satisfied: scipy>=1.2.0 in c:\\users\\mawel\\anaconda3\\envs\\cpe313\\lib\\site-packages (from librosa) (1.12.0)\n",
      "Requirement already satisfied: scikit-learn>=0.20.0 in c:\\users\\mawel\\anaconda3\\envs\\cpe313\\lib\\site-packages (from librosa) (1.4.1.post1)\n",
      "Requirement already satisfied: joblib>=0.14 in c:\\users\\mawel\\anaconda3\\envs\\cpe313\\lib\\site-packages (from librosa) (1.3.2)\n",
      "Requirement already satisfied: decorator>=4.3.0 in c:\\users\\mawel\\anaconda3\\envs\\cpe313\\lib\\site-packages (from librosa) (5.1.1)\n",
      "Requirement already satisfied: numba>=0.51.0 in c:\\users\\mawel\\anaconda3\\envs\\cpe313\\lib\\site-packages (from librosa) (0.59.1)\n",
      "Requirement already satisfied: soundfile>=0.12.1 in c:\\users\\mawel\\anaconda3\\envs\\cpe313\\lib\\site-packages (from librosa) (0.12.1)\n",
      "Requirement already satisfied: pooch>=1.1 in c:\\users\\mawel\\anaconda3\\envs\\cpe313\\lib\\site-packages (from librosa) (1.8.1)\n",
      "Requirement already satisfied: soxr>=0.3.2 in c:\\users\\mawel\\anaconda3\\envs\\cpe313\\lib\\site-packages (from librosa) (0.3.7)\n",
      "Requirement already satisfied: typing-extensions>=4.1.1 in c:\\users\\mawel\\anaconda3\\envs\\cpe313\\lib\\site-packages (from librosa) (4.9.0)\n",
      "Requirement already satisfied: lazy-loader>=0.1 in c:\\users\\mawel\\anaconda3\\envs\\cpe313\\lib\\site-packages (from librosa) (0.4)\n",
      "Requirement already satisfied: msgpack>=1.0 in c:\\users\\mawel\\anaconda3\\envs\\cpe313\\lib\\site-packages (from librosa) (1.0.8)\n",
      "Requirement already satisfied: python-dateutil>=2.8.2 in c:\\users\\mawel\\anaconda3\\envs\\cpe313\\lib\\site-packages (from pandas) (2.8.2)\n",
      "Requirement already satisfied: pytz>=2020.1 in c:\\users\\mawel\\anaconda3\\envs\\cpe313\\lib\\site-packages (from pandas) (2023.3.post1)\n",
      "Requirement already satisfied: tzdata>=2022.7 in c:\\users\\mawel\\anaconda3\\envs\\cpe313\\lib\\site-packages (from pandas) (2024.1)\n",
      "Requirement already satisfied: packaging in c:\\users\\mawel\\anaconda3\\envs\\cpe313\\lib\\site-packages (from lazy-loader>=0.1->librosa) (23.1)\n",
      "Requirement already satisfied: llvmlite<0.43,>=0.42.0dev0 in c:\\users\\mawel\\anaconda3\\envs\\cpe313\\lib\\site-packages (from numba>=0.51.0->librosa) (0.42.0)\n",
      "Requirement already satisfied: platformdirs>=2.5.0 in c:\\users\\mawel\\anaconda3\\envs\\cpe313\\lib\\site-packages (from pooch>=1.1->librosa) (3.10.0)\n",
      "Requirement already satisfied: requests>=2.19.0 in c:\\users\\mawel\\anaconda3\\envs\\cpe313\\lib\\site-packages (from pooch>=1.1->librosa) (2.31.0)\n",
      "Requirement already satisfied: six>=1.5 in c:\\users\\mawel\\anaconda3\\envs\\cpe313\\lib\\site-packages (from python-dateutil>=2.8.2->pandas) (1.16.0)\n",
      "Requirement already satisfied: threadpoolctl>=2.0.0 in c:\\users\\mawel\\anaconda3\\envs\\cpe313\\lib\\site-packages (from scikit-learn>=0.20.0->librosa) (3.3.0)\n",
      "Requirement already satisfied: cffi>=1.0 in c:\\users\\mawel\\anaconda3\\envs\\cpe313\\lib\\site-packages (from soundfile>=0.12.1->librosa) (1.16.0)\n",
      "Requirement already satisfied: pycparser in c:\\users\\mawel\\anaconda3\\envs\\cpe313\\lib\\site-packages (from cffi>=1.0->soundfile>=0.12.1->librosa) (2.21)\n",
      "Requirement already satisfied: charset-normalizer<4,>=2 in c:\\users\\mawel\\anaconda3\\envs\\cpe313\\lib\\site-packages (from requests>=2.19.0->pooch>=1.1->librosa) (2.0.4)\n",
      "Requirement already satisfied: idna<4,>=2.5 in c:\\users\\mawel\\anaconda3\\envs\\cpe313\\lib\\site-packages (from requests>=2.19.0->pooch>=1.1->librosa) (3.4)\n",
      "Requirement already satisfied: urllib3<3,>=1.21.1 in c:\\users\\mawel\\anaconda3\\envs\\cpe313\\lib\\site-packages (from requests>=2.19.0->pooch>=1.1->librosa) (2.1.0)\n",
      "Requirement already satisfied: certifi>=2017.4.17 in c:\\users\\mawel\\anaconda3\\envs\\cpe313\\lib\\site-packages (from requests>=2.19.0->pooch>=1.1->librosa) (2024.2.2)\n",
      "Note: you may need to restart the kernel to use updated packages.\n"
     ]
    }
   ],
   "source": [
    "%pip install librosa pandas"
   ]
  },
  {
   "cell_type": "code",
   "execution_count": 2,
   "metadata": {},
   "outputs": [
    {
     "name": "stdout",
     "output_type": "stream",
     "text": [
      "MFCC features saved to c:\\Users\\MAWEL\\Desktop\\Final Project\\Dataset\\audio_features.csv\n"
     ]
    }
   ],
   "source": [
    "import os\n",
    "import librosa\n",
    "import numpy as np\n",
    "import pandas as pd\n",
    "\n",
    "def extract_mfcc_features(audio_path, n_mfcc=13):\n",
    "    y, sr = librosa.load(audio_path, sr=None)\n",
    "    mfcc = librosa.feature.mfcc(y=y, sr=sr, n_mfcc=n_mfcc)\n",
    "    mfcc_mean = np.mean(mfcc.T, axis=0)\n",
    "    return mfcc_mean\n",
    "\n",
    "def process_directory(directory, label):\n",
    "    features = []\n",
    "    for root, _, files in os.walk(directory):\n",
    "        for file in files:\n",
    "            if file.endswith('.flac'):\n",
    "                file_path = os.path.join(root, file)\n",
    "                mfcc_features = extract_mfcc_features(file_path)\n",
    "                feature_entry = mfcc_features.tolist()\n",
    "                feature_entry.append(label)\n",
    "                features.append(feature_entry)\n",
    "    return features\n",
    "\n",
    "def main():\n",
    "    base_dir = 'c:\\\\Users\\\\MAWEL\\\\Desktop\\\\Final Project\\\\Dataset'\n",
    "    ai_generated_dir = os.path.join(base_dir, 'ai_generated')\n",
    "    human_generated_dir = os.path.join(base_dir, 'human_generated')\n",
    "\n",
    "    # Extract features for AI-generated audio\n",
    "    ai_features = process_directory(ai_generated_dir, 'FAKE')\n",
    "\n",
    "    # Extract features for human-generated audio\n",
    "    human_features = process_directory(human_generated_dir, 'REAL')\n",
    "\n",
    "    # Combine the features and create a DataFrame\n",
    "    all_features = ai_features + human_features\n",
    "    column_names = [f'mfcc_{i+1}' for i in range(len(all_features[0]) - 1)] + ['label']\n",
    "    df = pd.DataFrame(all_features, columns=column_names)\n",
    "\n",
    "    # Save the DataFrame to a CSV file\n",
    "    output_csv = 'c:\\\\Users\\\\MAWEL\\\\Desktop\\\\Final Project\\\\Dataset\\\\audio_features.csv'\n",
    "    df.to_csv(output_csv, index=False)\n",
    "    print(f'MFCC features saved to {output_csv}')\n",
    "\n",
    "if __name__ == '__main__':\n",
    "    main()"
   ]
  },
  {
   "cell_type": "code",
   "execution_count": null,
   "metadata": {},
   "outputs": [],
   "source": []
  }
 ],
 "metadata": {
  "kernelspec": {
   "display_name": "CPE313",
   "language": "python",
   "name": "python3"
  },
  "language_info": {
   "codemirror_mode": {
    "name": "ipython",
    "version": 3
   },
   "file_extension": ".py",
   "mimetype": "text/x-python",
   "name": "python",
   "nbconvert_exporter": "python",
   "pygments_lexer": "ipython3",
   "version": "3.11.8"
  }
 },
 "nbformat": 4,
 "nbformat_minor": 2
}
